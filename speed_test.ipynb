{
 "cells": [
  {
   "cell_type": "code",
   "execution_count": 1,
   "metadata": {},
   "outputs": [],
   "source": [
    "from dataset import steepest_gradient\n",
    "import numpy as np\n",
    "\n",
    "\n",
    "def template_matching(dataset):\n",
    "    \"\"\"Fully looped original implementation.\"\"\"\n",
    "    dataset = steepest_gradient(dataset, 1)\n",
    "\n",
    "    def norm_corr(a1, a2):\n",
    "        numerator = np.sum(a1 * a2)\n",
    "        denominator = np.sqrt(\n",
    "            np.sum(np.square(a1)) * np.sum(np.square(a2))\n",
    "        )\n",
    "        return np.divide(numerator, denominator)\n",
    "\n",
    "    res = []\n",
    "    for i in range(len(dataset.data)):\n",
    "        res.append([])\n",
    "        detected_peak = 0\n",
    "        for j in range(len(dataset.data[i])-100):\n",
    "            data = dataset.data[i][j:j+100]\n",
    "            peak = dataset.data[i][dataset.peaks[i][0]-50:dataset.peaks[i][0]+50]\n",
    "            out = norm_corr(np.subtract(data, np.mean(data)), np.subtract(peak, np.mean(peak)))\n",
    "            if out >= 0.92 and not detected_peak-50 <= j <= detected_peak+50:\n",
    "                detected_peak = j\n",
    "                res[i].append(j+50)\n",
    "    dataset.peaks = np.array(res)\n",
    "    return dataset\n",
    "\n",
    "\n",
    "def template_matching2(dataset):\n",
    "    \"\"\"Single loop implementation with fancy indexing.)\"\"\"\n",
    "    dataset = steepest_gradient(dataset, 1)\n",
    "    indexer = np.arange(100)[None, :] + np.arange(4900)[:, None]\n",
    "\n",
    "    for i in range(len(dataset.data)):\n",
    "        template = dataset.data[i][dataset.peaks[i][0]-50:dataset.peaks[i][0]+50]\n",
    "        template = template - template.mean()\n",
    "\n",
    "        data = dataset.data[i][indexer]\n",
    "        data = data - np.mean(data, axis=1)[:, None]\n",
    "\n",
    "        numerator = np.sum(data * template, axis=1)\n",
    "\n",
    "        denominator = np.sqrt(\n",
    "            np.sum(np.square(data), axis=1) * np.sum(np.square(template))\n",
    "        )\n",
    "        np.divide(numerator, denominator)\n",
    "    return dataset\n",
    "\n",
    "\n",
    "def template_matching3(dataset):\n",
    "    \"\"\"No loop implementation with fancy indexing.)\"\"\"\n",
    "    dataset = steepest_gradient(dataset, 1)\n",
    "\n",
    "    indexer = np.arange(100)[None, :] + np.arange(4900)[:, None]\n",
    "\n",
    "    template_indexer = (dataset.peaks[:, 0].reshape(len(dataset.peaks), -1) - 50)+np.arange(100) \n",
    "    templates = dataset.data[:, template_indexer[-1, :]]\n",
    "    templates = templates - np.mean(templates, axis=1).reshape(-1, 1)\n",
    "\n",
    "    data = dataset.data[:, indexer]\n",
    "    data = data - np.mean(data, axis=2).reshape(len(data), -1, 1)\n",
    "\n",
    "    numerator = np.sum(np.multiply(data, templates[:, None]), axis=2)\n",
    "\n",
    "    denominator = np.sqrt(\n",
    "        np.sum(np.square(data), axis=2) * np.sum(np.square(templates), axis=1).reshape(-1, 1)\n",
    "    )\n",
    "\n",
    "    np.divide(numerator, denominator)\n",
    "    return dataset"
   ]
  },
  {
   "cell_type": "code",
   "execution_count": 3,
   "metadata": {
    "collapsed": true
   },
   "outputs": [
    {
     "name": "stdout",
     "output_type": "stream",
     "text": [
      "1 loop, best of 3: 1.94 s per loop\n"
     ]
    },
    {
     "name": "stdout",
     "output_type": "stream",
     "text": [
      "10 loops, best of 3: 33.2 ms per loop\n"
     ]
    },
    {
     "name": "stdout",
     "output_type": "stream",
     "text": [
      "10 loops, best of 3: 73.7 ms per loop\n"
     ]
    }
   ],
   "source": [
    "import timeit\n",
    "from dataset import sample, ECGDataset\n",
    "\n",
    "file = \"FILE WITH ECG DATA (NUMPY ARRAY)\"\n",
    "samp = sample(ECGDataset(file))\n",
    "\n",
    "# original implementation (fully looped)\n",
    "%timeit template_matching(samp)\n",
    "\n",
    "# single loop implementation with fancy indexing\n",
    "%timeit template_matching2(samp)\n",
    "\n",
    "# no loop implementation with fancy indexing\n",
    "%timeit template_matching3(samp)\n",
    "\n"
   ]
  },
  {
   "cell_type": "code",
   "execution_count": null,
   "metadata": {},
   "outputs": [],
   "source": []
  }
 ],
 "metadata": {
  "kernelspec": {
   "display_name": "Python 2",
   "language": "python",
   "name": "python2"
  },
  "language_info": {
   "codemirror_mode": {
    "name": "ipython",
    "version": 2
   },
   "file_extension": ".py",
   "mimetype": "text/x-python",
   "name": "python",
   "nbconvert_exporter": "python",
   "pygments_lexer": "ipython2",
   "version": "2.7.6"
  }
 },
 "nbformat": 4,
 "nbformat_minor": 0
}